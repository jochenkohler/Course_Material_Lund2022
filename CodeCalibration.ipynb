{
 "cells": [
  {
   "cell_type": "markdown",
   "metadata": {},
   "source": [
    "# Code calibration Example\n",
    "\n"
   ]
  },
  {
   "cell_type": "markdown",
   "metadata": {},
   "source": [
    "The simply supported beam is to be designed with a given target reliability. A self weight $G$ is uniformly distributed over the span $l$ of the beam. The time-variable load is acting at mid-span and represented by the yearly extreme value distribution $Q$.  The basic random variables that represent the situation are given in the table below. The reliability requirement is introduced as a target reliability index with a one year reference period $\\beta_t=4.2$. The resulting beam span and cross-section modulus are dependent on the design philosophy that is followed. The following formats are to be considered: reliability based design, load and resistance factor design and global partial safety factor.\n",
    "\n",
    "![Image of the beam](https://folk.ntnu.no/jochenk/Figures/simplebeam1.pdf)\n",
    "\n",
    "|                                    | $G$        | $Q$  | $F_m$  |\n",
    "|------------------------------------|------------|---------|---------|\n",
    "| Distribution                       | Normal     | Normal  | Normal  |\n",
    "| Mean ($\\mu_X$)                 | 2 N/mm     | 10000 N | 200 MPa |\n",
    "| Standard dev. ($\\sigma_X$)    | 0.30 N/mm | 4000 N  | 20 MPa  |\n",
    "| Coeff. of var. ($COV_X$\\)      | 15\\%      | 40\\%   | 10\\\\%   |\n",
    "| Characteristic fractile ($k_X$) | 0.50      | 0.95   | 0.05   |"
   ]
  },
  {
   "cell_type": "code",
   "execution_count": 70,
   "metadata": {},
   "outputs": [],
   "source": [
    "import numpy as np\n",
    "import matplotlib.pyplot as plt\n",
    "import scipy as sp\n",
    "import scipy.stats\n",
    "## some general plotting settings:\n",
    "fontsizes=18\n",
    "plt.rcParams.update({'font.size': fontsizes})\n",
    "plt.rcParams.update({\"font.family\": \"serif\"})\n",
    "plt.rcParams.update({\"mathtext.fontset\" : \"cm\"})\n",
    "plt.rcParams.update({'font.serif': 'Times New Roman'})\n",
    "plt.close('all')\n",
    "\n",
    "## RANDOM VARIABLES\n",
    "#G: Self-weight\n",
    "mG = 2        #mean\n",
    "sG = 0.3      #standard deviation\n",
    "VG = sG/mG    #coeff of variation\n",
    "kG = 0.50     #characteristic fractile\n",
    "chG = sp.stats.norm.ppf(kG,mG,sG)  # characteristic value\n",
    "\n",
    "#Q: Variable load\n",
    "mQ = 10000    #mean\n",
    "sQ = 4000     #standard deviation\n",
    "VQ = sQ/mQ    #coeff of variation\n",
    "kQ = 0.95     #characteristic fractile\n",
    "chQ = sp.stats.norm.ppf(kQ,mQ,sQ)  # characteristic value\n",
    "\n",
    "#F: Material strength\n",
    "mF = 200      #mean\n",
    "sF = 20       #standard deviation\n",
    "VF = sF/mF    #coeff of variation\n",
    "kF = 0.05     #characteristic fractile\n",
    "chF = sp.stats.norm.ppf(kF,mF,sF)  # characteristic value\n",
    "\n",
    "#OTHER INPUT\n",
    "bT = 4.2          # Target reliability"
   ]
  },
  {
   "cell_type": "markdown",
   "metadata": {},
   "source": [
    "The limit state function for bending moment at mid-span is (with $W$ the elastic section modulus):\n",
    "\\begin{equation*}\n",
    "g(f_m,g,q)=W\\cdot f_m-g\\dfrac{l^2}{8}-q\\dfrac{l}{4}\\le 0\n",
    "\\label{eq:lsf} \\tag{1}\n",
    "\\end{equation*}\n",
    "\n",
    "The corresponding reliability index is:\n",
    "\n",
    "\\begin{equation*}\n",
    "\\beta = \\dfrac{W\\mu_{F_m}-\\mu_G\\dfrac{l^2}{8}-\\mu_Q\\dfrac{l}{4}}{\\sqrt{\\left(W\\sigma_{F_m}\\right)^2+\\left(\\sigma_G\\dfrac{l^2}{8}\\right)^2+\\left(\\sigma_Q\\dfrac{l}{4}\\right)^2}}\n",
    "\\label{eq:beta} \\tag{2}\n",
    "\\end{equation*}\n",
    "\n",
    "## Reliability Based Design\n",
    "\n",
    "The beam cross-section $W$ can be chosen such that the reliability index of the beam corresponds to the target reliability, i.e. $\\beta=\\beta_t$. This corresponds to the so-called **reliability based design**. E.g. for $l=6$m, the section elastic modulus giving $\\beta=\\beta_t$ is found to be $W=3.01\\cdot 10^5$. The cross-section elastic section modulus is plotted against the beam length:"
   ]
  },
  {
   "cell_type": "code",
   "execution_count": 71,
   "metadata": {},
   "outputs": [],
   "source": [
    "## Define a function that gives W = W (beta_t) (solving eq.2 for W)\n",
    "def reldesW(l):\n",
    "    a = mF**2 - bT**2*sF**2\n",
    "    b = 2*mF*(mG*l**2/8+mQ*l/4)\n",
    "    c = (mG*l**2/8+mQ*l/4)**2 - ((sG*l**2/8)**2+(sQ*l/4)**2)*bT**2 \n",
    "    return (b + np.sqrt(b**2-4*a*c))/(2*a)\n",
    "\n",
    "## Compute W(beta_t) for several lengths l\n",
    "ls = np.linspace(6e3,30e3,50)\n",
    "W_bT = []\n",
    "for l in ls:\n",
    "    W_bT.append(reldesW(l))\n",
    "\n",
    "W_bT = np.array(W_bT)"
   ]
  },
  {
   "cell_type": "code",
   "execution_count": 107,
   "metadata": {},
   "outputs": [
    {
     "data": {
      "image/png": "[encoded data removed]",
      "text/plain": [
       "<Figure size 432x288 with 1 Axes>"
      ]
     },
     "metadata": {
      "needs_background": "light"
     },
     "output_type": "display_data"
    }
   ],
   "source": [
    "fig, ax = plt.subplots(1, 1)\n",
    "ax.plot(ls/1e3,W_bT,'-b')\n",
    "ax.set_xlabel('$l$ [m]')\n",
    "ax.set_ylabel('$W$ [mm$^3$]')\n",
    "ax.set_xlim(ls[0]/1e3,ls[-1]/1e3)\n",
    "plt.tight_layout()\n",
    "plt.grid()\n",
    "plt.show()"
   ]
  },
  {
   "cell_type": "markdown",
   "metadata": {},
   "source": [
    "# Design value method and partial factors\n",
    "\n",
    "Although modern structural design codes (like Eurocodes) allow reliability based design, they propose simpler design procedures in the **semi-probabilistic design format**, where design equations are written in the **load and resistance factor design format (LRFD)**. This format is referred to as **semi-probabilistic**, since random variables (represented by distribution functions) are reduced to design values, which are obtained from characteristic values as $r_d=r_k/\\gamma_R$ (for resistance) and $s_d=s_k/\\gamma_S$ (for actions). The format is simpler, since the designer can check the design just by comparing design values, without the necessity of using reliability analysis.\n",
    "\n",
    "The design equation of the beam above is: \n",
    "\n",
    "\\begin{equation*}\n",
    "W\\cdot f_{m,d}-g_d\\dfrac{l^2}{8}-q_d\\dfrac{l}{4}\\le 0$\n",
    "\\label{eq:deseq} \\tag{3}\n",
    "\\end{equation*}\n",
    "\n",
    "where:\n",
    "\n",
    "- $f_{m,d}=\\dfrac{f_{m,k}}{\\gamma_R}$; $g_{d}=g_k\\gamma_G$ and $q_{d}=q_k\\gamma_Q$ are the **design values**;\n",
    "\n",
    "- $f_{m,k}=F_{F_m}^{-1}(k_{F_m})$; $g_{k}=F_{G}^{-1}(k_{G})$ and $q_{k}=F_{Q}^{-1}(k_{Q})$ are the **characteristic values** corresponding to the characteristic fractiles $k_{F_m}$, $k_{G}$ and $k_{Q}$, which are defined arbitrarily and\n",
    "\n",
    "- $\\gamma_G$; $\\gamma_R$ and $\\gamma_Q$ are the **partial safety factors (p.s.f.)**.\n",
    "\n",
    "The minimum cross-section plastic modulus satisfying the design criterion above is:\n",
    "\\begin{equation*}\n",
    "W_{min}=\\dfrac{g_k\\gamma_G \\dfrac{l^2}{8}+q_k\\gamma_Q \\dfrac{l}{4}}{\\dfrac{f_{m,k}}{\\gamma_R}}\n",
    "\\label{eq:deseq2} \\tag{4}\n",
    "\\end{equation*}\n",
    "\n",
    "## Calibration of partial factors\n",
    "\n",
    "The partial safety factors for a given span, say, $l=6$m, are computed based on the $\\alpha-$values (FORM sensitivity factors), which are:\n",
    "\n",
    "$\n",
    "\\alpha_{F_m}=\\dfrac{-W\\sigma_{F_m}}{k} \\, \\, ; \\, \\,\\alpha_{G}=\\dfrac{\\left(\\sigma_G\\dfrac{l^2}{8}\\right)}{k} \\, \\, ; \\, \\, \\alpha_{Q}=\\dfrac{\\left(\\sigma_Q\\dfrac{l}{4}\\right)}{k}  \n",
    "$\n",
    "\n",
    "with:\n",
    "$\n",
    "k=\\sqrt{\\left(W\\sigma_{F_m}\\right)^2+\\left(\\sigma_G\\dfrac{l^2}{8}\\right)^2+\\left(\\sigma_Q\\dfrac{l}{4}\\right)^2}\n",
    "$"
   ]
  },
  {
   "cell_type": "code",
   "execution_count": 73,
   "metadata": {},
   "outputs": [
    {
     "name": "stdout",
     "output_type": "stream",
     "text": [
      "The FORM sensitivity factors for l = 6 m are:\n",
      " alpha_F = -0.70\n",
      " alpha_Q = 0.70\n",
      " alpha_G = 0.16\n",
      "\n"
     ]
    }
   ],
   "source": [
    "def alphafun(w,l):\n",
    "    aF = -w*sF/np.sqrt((w*sF)**2+(sG*l**2/8)**2+(sQ*l/4)**2)\n",
    "    aQ = sQ*l/4/np.sqrt((w*sF)**2+(sG*l**2/8)**2+(sQ*l/4)**2)\n",
    "    aG = sG*l**2/8/ np.sqrt((w*sF)**2+(sG*l**2/8)**2+(sQ*l/4)**2)\n",
    "    return np.array([aF,aQ,aG])\n",
    "\n",
    "alpha_display = alphafun(W_bT[0],ls[0])\n",
    "print(\"The FORM sensitivity factors for l = 6 m are:\")\n",
    "print(\" alpha_F = {af:.2f}\\n\".format(af=alpha_display[0]),\"alpha_Q = {aq:.2f}\\n\".format(aq=alpha_display[1]),\"alpha_G = {ag:.2f}\\n\".format(ag=alpha_display[2]))"
   ]
  },
  {
   "cell_type": "markdown",
   "metadata": {},
   "source": [
    "The partial factors can now be computed based on the $\\alpha-$values, the reliability target, and the definition of the fractile value.\n",
    "\\begin{equation*}\n",
    "\\gamma_m=\\frac{\\left(1+ \\Phi^{-1}(k_F) V_F \\right)}{\\left(1+ \\alpha_F\\beta_t V_F \\right)} \n",
    "\\label{eq:gF} \\tag{5.1}\n",
    "\\end{equation*}\n",
    "\n",
    "\\begin{equation*}\n",
    "\\gamma_G=\\frac{\\left(1+ \\alpha_G\\beta_t V_G \\right)}{\\left(1+ \\Phi^{-1}(k_G) V_G \\right)} \n",
    "\\label{eq:gG} \\tag{5.2}\n",
    "\\end{equation*}\n",
    "\n",
    "\\begin{equation*}\n",
    "\\gamma_Q=\\frac{\\left(1+ \\alpha_Q\\beta_t V_Q \\right)}{\\left(1+ \\Phi^{-1}(k_Q) V_Q \\right)}\n",
    "\\label{eq:gQ} \\tag{5.3}\n",
    "\\end{equation*}\n"
   ]
  },
  {
   "cell_type": "code",
   "execution_count": 98,
   "metadata": {},
   "outputs": [
    {
     "name": "stdout",
     "output_type": "stream",
     "text": [
      "The partial safety factors for l = 6 m are:\n",
      " gamma_F = 1.18\n",
      " gamma_Q = 1.31\n",
      " gamma_G = 1.10\n",
      "\n"
     ]
    }
   ],
   "source": [
    "def psf_alpha(w,l):\n",
    "    alpha = alphafun(w,l)\n",
    "    gR = (1 + sp.stats.norm.ppf(kF)*VF)/(1+alpha[0]*bT*VF)\n",
    "    gQ = (1+alpha[1]*bT*VQ)/(1+sp.stats.norm.ppf(kQ)*VQ)\n",
    "    gG = (1+alpha[2]*bT*VG)/(1+sp.stats.norm.ppf(kG)*VG)\n",
    "    return [gR,gQ,gG]\n",
    "\n",
    "psf_display = psf_alpha(W_bT[0],ls[0])\n",
    "print(\"The partial safety factors for l = 6 m are:\")\n",
    "print(\" gamma_F = {af:.2f}\\n\".format(af=psf_display[0]),\"gamma_Q = {aq:.2f}\\n\".format(aq=psf_display[1]),\"gamma_G = {ag:.2f}\\n\".format(ag=psf_display[2]))"
   ]
  },
  {
   "cell_type": "markdown",
   "metadata": {},
   "source": [
    "With the partial factors and the characteristic values from above, **a one to one correspondence between reliability based design and partial factor design can be established**. However, this is only possible for one **specific span of the beam**. For different spans, the $\\alpha-$values would change and with them the partial factors, as demonstrated below."
   ]
  },
  {
   "cell_type": "code",
   "execution_count": 108,
   "metadata": {},
   "outputs": [
    {
     "data": {
      "image/png": "[encoded data removed]",
      "text/plain": [
       "<Figure size 432x288 with 1 Axes>"
      ]
     },
     "metadata": {
      "needs_background": "light"
     },
     "output_type": "display_data"
    }
   ],
   "source": [
    "[gRa,gQa,gGa] = psf_alpha(W_bT,ls)\n",
    "fig, ax = plt.subplots(1, 1)\n",
    "ax.plot(ls/1e3,gGa,'-b',label=r'$\\gamma_{G}$')\n",
    "ax.plot(ls/1e3,gQa,'-r',label=r'$\\gamma_{Q}$')\n",
    "ax.plot(ls/1e3,gRa,'-g',label=r'$\\gamma_{m}$')\n",
    "ax.set_xlabel('$l$ [m]')\n",
    "ax.set_ylabel('PSF')\n",
    "ax.set_xlim(ls[0]/1e3,ls[-1]/1e3)\n",
    "plt.tight_layout()\n",
    "plt.legend()\n",
    "plt.grid()\n",
    "plt.show()"
   ]
  },
  {
   "cell_type": "code",
   "execution_count": 100,
   "metadata": {},
   "outputs": [
    {
     "data": {
      "application/vnd.jupyter.widget-view+json": {
       "model_id": "5c3b33b427f34538b7a956298badab2d",
       "version_major": 2,
       "version_minor": 0
      },
      "text/plain": [
       "VBox(children=(FloatSlider(value=6.0, description='$l$ [m] =', max=30.0, min=6.0, readout_format='2.2f'), Butt…"
      ]
     },
     "metadata": {},
     "output_type": "display_data"
    }
   ],
   "source": [
    "from IPython.display import display, Markdown, clear_output\n",
    "from matplotlib.figure import figaspect\n",
    "import json\n",
    "import ipywidgets as widgets\n",
    "from matplotlib.figure import figaspect\n",
    "\n",
    "slider_l = widgets.FloatSlider(\n",
    "         value=6,\n",
    "         min=6,\n",
    "         max=30,\n",
    "         step=.1,\n",
    "         description='$l$ [m] =',\n",
    "         orientation='horizontal',\n",
    "         readout=True,\n",
    "         readout_format='2.2f',)\n",
    "\n",
    "button = widgets.Button(description='Refresh plot')\n",
    "\n",
    "out = widgets.Output()\n",
    "\n",
    "def plotslider(l,ax):\n",
    "\n",
    "    W_rbd = reldesW(l)\n",
    "    alpha_display = alphafun(W_rbd,l)\n",
    "    \n",
    "    ax[0].pie(alpha_display**2,labels=[r'$\\alpha_R^2$',r'$\\alpha_Q^2$',r'$\\alpha_G^2$'],autopct='%1.1f%%')\n",
    "    ax[0].axis('equal');\n",
    "    \n",
    "    psf_display = psf_alpha(W_rbd,l)\n",
    "    ax[1].bar([r'$\\gamma_R$',r'$\\gamma_Q$',r'$\\gamma_G$'],psf_display)\n",
    "    plt.tight_layout\n",
    "    plt.show()\n",
    "    \n",
    "def on_button_clicked(b):\n",
    "    with out:\n",
    "        clear_output()   \n",
    "        wp, hp = figaspect(1/3)\n",
    "        fig, ax = plt.subplots(1, 2,figsize=(wp,hp))\n",
    "        plotslider(slider_l.value*1e3 ,ax)\n",
    "\n",
    "button.on_click(on_button_clicked)       \n",
    "display(widgets.VBox([slider_l,button,out]))"
   ]
  },
  {
   "cell_type": "markdown",
   "metadata": {},
   "source": [
    "The problem is solved by finding the set of p.s.f which ensures the reliability to be as homogeneous as possible over a range of possible scenarios. The set can be obtained by solving the minimization problem.\n",
    "\n",
    "\\begin{equation*}\n",
    "\\min_{\\gamma_R^*,\\gamma_G^*,\\gamma_Q^*}\\left\\{ {\\sum}_{i=1}^n\\left(\\beta_t-\\beta_i(\\gamma_R,\\gamma_G,\\gamma_Q,l_i)\\right)^2\\right\\}\n",
    "\\label{eq:gF} \\tag{6}\n",
    "\\end{equation*}"
   ]
  },
  {
   "cell_type": "code",
   "execution_count": 101,
   "metadata": {},
   "outputs": [
    {
     "name": "stdout",
     "output_type": "stream",
     "text": [
      "Optimization terminated successfully.\n",
      "         Current function value: 0.048572\n",
      "         Iterations: 53\n",
      "         Function evaluations: 96\n",
      "The optimal partial safety factors for l = [6,30] m are:\n",
      " gamma_F = 1.32\n",
      " gamma_Q = 1.09\n",
      " gamma_G = 1.13\n",
      "\n"
     ]
    }
   ],
   "source": [
    "W_psf = lambda psf,l: ((chG * psf[2] * l**2/8 + chQ * psf[1]*l/4)/ (chF/psf[0]))\n",
    "beta_fun = lambda W,l: (W*mF-mG*l**2/8-mQ*l/4)/np.sqrt((W*sF)**2+(sG*l**2/8)**2+(sQ*l/4)**2)\n",
    "\n",
    "def betadiff(psf):\n",
    "    \n",
    "    beta = []\n",
    "    for l in ls:\n",
    "        W_min = W_psf(psf,l)\n",
    "        beta.append(beta_fun(W_min,l))\n",
    "        \n",
    "    return np.sum((np.array(beta) - bT)**2)\n",
    "\n",
    "res = sp.optimize.minimize(betadiff,[1,1,1],method='nelder-mead',options={'xatol': 1e-3, 'disp': True})\n",
    "PSF_opt = res.x\n",
    "\n",
    "print(\"The optimal partial safety factors for l = [6,30] m are:\")\n",
    "print(\" gamma_F = {af:.2f}\\n\".format(af=res.x[0]),\"gamma_Q = {aq:.2f}\\n\".format(aq=res.x[1]),\"gamma_G = {ag:.2f}\\n\".format(ag=res.x[2]))"
   ]
  },
  {
   "cell_type": "markdown",
   "metadata": {},
   "source": [
    "If this set of partial factors is used for the design of beams with span $l=[6,30]$ the obtained reliability indices are deviating from $\\beta_t$ but the sum of squared differences is minimized. It is interesting to note that the obtained set of partial factors is not very different to the partial factors that are calculated with the design value method above. (see after Equation 5.1-3). The effect on the reliability indices, however, is significant, as seen below where the \"optimal solution\" is compared with the \"design value factors\". "
   ]
  },
  {
   "cell_type": "code",
   "execution_count": 106,
   "metadata": {},
   "outputs": [
    {
     "data": {
      "image/png": "[encoded data removed]",
      "text/plain": [
       "<Figure size 432x288 with 1 Axes>"
      ]
     },
     "metadata": {
      "needs_background": "light"
     },
     "output_type": "display_data"
    }
   ],
   "source": [
    "W_min = W_psf(PSF_opt,ls)\n",
    "beta_cpsf = beta_fun(W_min,ls)\n",
    "W_min_dvm = W_psf(psf_display,ls)\n",
    "beta_dpsf = beta_fun(W_min_dvm,ls)\n",
    "fig, ax = plt.subplots(1, 1)\n",
    "ax.plot(ls/1e3,beta_cpsf,'-g',label=r'$\\beta_{opt}$' )\n",
    "ax.plot(ls/1e3,beta_dpsf,'-b',label=r'$\\beta_{dvm,l=6m}$' )\n",
    "ax.plot([ls[0]/1e3,ls[-1]/1e3],np.full(2,bT),'r',label=r'$\\beta_t$')\n",
    "ax.set_xlabel('$l$ [m]')\n",
    "ax.set_ylabel(r'$\\beta$')\n",
    "ax.set_xlim(ls[0]/1e3,ls[-1]/1e3)\n",
    "ax.set_ylim(3.5,4.5)\n",
    "plt.legend()\n",
    "plt.tight_layout()\n",
    "plt.grid()\n",
    "plt.show()"
   ]
  },
  {
   "cell_type": "markdown",
   "metadata": {},
   "source": [
    "An alternative (and older) format of semi-probabilistic design equations makes use of the global safety factor ($SF$). The design equation with the global safety factor applied on the mean values reads:\n",
    "\n",
    "\\begin{equation}\\label{eq:SF}\n",
    "\\dfrac{W\\mu_{F_m}}{\\mu_G\\dfrac{l^2}{8}+\\mu_Q\\dfrac{l}{4}}>SF\n",
    "\\tag{7}\n",
    "\\end{equation}\n",
    "\n",
    "where the numerator is the mean value of the moment resistance and the denominator is the mean value of the action induced moment.\n",
    "\n",
    "The minimum cross-section plastic modulus satisfying Eq.$\\eqref{eq:SF}$ is:\n",
    "\n",
    "\\begin{equation}\\label{eq:c6e12}\n",
    "W_{min}=\\dfrac{SF}{\\mu_{F_m}}\\left(\\mu_G\\dfrac{l^2}{8}+\\mu_Q\\dfrac{l}{4}\\right)\n",
    "\\tag{8}\n",
    "\\end{equation}\n",
    "\n",
    "\n",
    "### Calibration of the global safety factor for a given span\n",
    "As before, $SF$ can be calibrated so that Eq.$\\eqref{eq:c6e12}$  provides a design with the target level of risk. The limit state function in Eq.(1) is rewritten with $W= W_{min}$:\n",
    "\n",
    "\\begin{equation}\n",
    "    g(f_m,g,q)=\\dfrac{SF}{\\mu_{F_m}}\\left(\\mu_G\\dfrac{l^2}{8}+\\mu_Q\\dfrac{l}{4}\\right)\\cdot f_m-g\\dfrac{l^2}{8}-q\\dfrac{l}{4}\\le 0\n",
    "    \\tag{9}\n",
    "\\end{equation}\n",
    "\n",
    "Consequently the reliability index is computed as:\n",
    "\n",
    "\\begin{equation}\n",
    "    \\beta = \\dfrac{\\dfrac{SF}{\\mu_{F_m}}\\left(\\mu_G\\dfrac{l^2}{8}+\\mu_Q\\dfrac{l}{4}\\right)\\mu_{F_m}-\\mu_G\\dfrac{l^2}{8}-\\mu_Q\\dfrac{l}{4}}{\\sqrt{\\left(\\dfrac{SF}{\\mu_{F_m}}\\left(\\mu_G\\dfrac{l^2}{8}+\\mu_Q\\dfrac{l}{4}\\right)\\sigma_{F_m}\\right)^2+\\left(\\sigma_G\\dfrac{l^2}{8}\\right)^2+\\left(\\sigma_Q\\dfrac{l}{4}\\right)^2}}\n",
    "    \\tag{10}\n",
    "\\end{equation}\n",
    "\n",
    "where it is clear that the reliability of the design is depending on the global safety factor, i.e. $\\beta=\\beta(SF)$.\n",
    "\\par\n",
    "The global safety factor is calibrated by setting $\\beta(SF)\\equiv \\beta_t$. As an example, considering $l=6$ m, the calibrated global safety factor is found to be $SF^*=2.51$, giving $W=3.01\\cdot 10^5$."
   ]
  },
  {
   "cell_type": "code",
   "execution_count": 105,
   "metadata": {},
   "outputs": [
    {
     "data": {
      "image/png": "[encoded data removed]",
      "text/plain": [
       "<Figure size 432x288 with 1 Axes>"
      ]
     },
     "metadata": {
      "needs_background": "light"
     },
     "output_type": "display_data"
    }
   ],
   "source": [
    "SF = W_bT*mF/(mG*ls*ls/8+mQ*ls/4)\n",
    "fig, ax = plt.subplots(1, 1)\n",
    "ax.plot(ls/1e3,SF,'-b')\n",
    "ax.set_xlabel('$l$ [m]')\n",
    "ax.set_ylabel('SF')\n",
    "ax.set_xlim(ls[0]/1e3,ls[-1]/1e3)\n",
    "plt.grid()\n",
    "plt.show()"
   ]
  },
  {
   "cell_type": "markdown",
   "metadata": {},
   "source": [
    "### Calibration of the global safety factor for different scenarios\n",
    "\n",
    "As before, the design performed with the calibrated $SF$ for $l=6$ m results in a different reliability for different spans. The $SF$ can be calibrated so to give a reliability as homogeneous as possible over the different design scenarios. Therefore, as previously, the $SF$ can be calibrated by solving a minimization problem. \n",
    "\n",
    "\\begin{equation}\\label{eq:c6e15}\n",
    "\\min_{SF^*}\\left\\{ {\\sum}_{i=1}^n\\left(\\beta_t-\\beta_i(SF^*,l_i)\\right)^2\\right\\}\n",
    "\\tag{11}\n",
    "\\end{equation}\n",
    "\n",
    "The optimized $SF$ obtained is $SF^*=2.20$."
   ]
  },
  {
   "cell_type": "code",
   "execution_count": 111,
   "metadata": {},
   "outputs": [
    {
     "name": "stdout",
     "output_type": "stream",
     "text": [
      "Optimization terminated successfully.\n",
      "         Current function value: 3.545470\n",
      "         Iterations: 19\n",
      "         Function evaluations: 38\n",
      "The optimal global safety factor for l = [6,30] m is:\n",
      " SF = 2.20\n",
      "\n"
     ]
    }
   ],
   "source": [
    "W_sf = lambda sf,l:  sf/mF * (mG*l**2/8 + mQ*l/4)  # W as a function of SF and l\n",
    "\n",
    "# minimum W using SF for l = 6m\n",
    "W_min = W_sf(SF[0],ls)                             \n",
    "beta = beta_fun(W_min,ls)\n",
    "\n",
    "\n",
    "def betadiffSF(sf):\n",
    "    \"\"\"compute sum of square difference over lengths for given SF\"\"\"\n",
    "    beta = []\n",
    "    for l in ls:\n",
    "        W_min = W_sf(sf,l)\n",
    "        beta.append(beta_fun(W_min,l))\n",
    "        \n",
    "    return np.sum((np.array(beta) - bT)**2)\n",
    "\n",
    "res = sp.optimize.minimize(betadiffSF,3,method='nelder-mead',options={'xatol': 1e-5, 'disp': True})\n",
    "SF_opt = res.x[0]    # Optimal SF\n",
    "print(\"The optimal global safety factor for l = [6,30] m is:\")\n",
    "print(\" SF = {sf:.2f}\\n\".format(sf=res.x[0]))"
   ]
  },
  {
   "cell_type": "code",
   "execution_count": 123,
   "metadata": {},
   "outputs": [
    {
     "data": {
      "image/png": "[encoded data removed]",
      "text/plain": [
       "<Figure size 432x288 with 1 Axes>"
      ]
     },
     "metadata": {
      "needs_background": "light"
     },
     "output_type": "display_data"
    }
   ],
   "source": [
    "W_min = W_sf(SF_opt,ls)\n",
    "beta_SFopt = beta_fun(W_min,ls)\n",
    "\n",
    "fig, ax = plt.subplots(1, 1)\n",
    "ax.plot(ls/1e3,beta_cpsf,'-g',label=r'$\\beta_{opt}$' )\n",
    "ax.plot(ls/1e3,beta,'-b',label=r'$\\beta(SF=2.5)$')\n",
    "ax.plot(ls/1e3,beta_SFopt,'-m',label=r'$\\beta_{opt,sf}$')\n",
    "ax.plot([ls[0]/1e3,ls[-1]/1e3],np.full(2,bT),'r',label=r'$\\beta_t$')\n",
    "ax.set_xlabel('$l$ [m]')\n",
    "ax.set_ylabel('SF')\n",
    "ax.set_xlim(ls[0]/1e3,ls[-1]/1e3)\n",
    "ax.set_ylim(3.5,5.5)\n",
    "ax.legend(loc='center left', bbox_to_anchor=(1, 0.5))\n",
    "plt.grid()\n",
    "plt.show()"
   ]
  },
  {
   "cell_type": "code",
   "execution_count": null,
   "metadata": {},
   "outputs": [],
   "source": []
  },
  {
   "cell_type": "code",
   "execution_count": null,
   "metadata": {},
   "outputs": [],
   "source": []
  }
 ],
 "metadata": {
  "kernelspec": {
   "display_name": "Python 3",
   "language": "python",
   "name": "python3"
  },
  "language_info": {
   "codemirror_mode": {
    "name": "ipython",
    "version": 3
   },
   "file_extension": ".py",
   "mimetype": "text/x-python",
   "name": "python",
   "nbconvert_exporter": "python",
   "pygments_lexer": "ipython3",
   "version": "3.7.4"
  }
 },
 "nbformat": 4,
 "nbformat_minor": 4
}
